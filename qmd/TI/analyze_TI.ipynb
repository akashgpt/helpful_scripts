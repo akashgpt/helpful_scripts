{
 "cells": [
  {
   "cell_type": "code",
   "execution_count": null,
   "metadata": {},
   "outputs": [],
   "source": [
    "# define pandas dataframe with the following columns: lambdas, scalee, ab-ig, err, err_scaled, lambda^k, w, delta_U_scaled\n",
    "\n",
    "# ab-ig is Free energy term from peavg.out (or lines 35 and 36 (std err) from peavg_numbers.out) divided by the corresponding lambda value\n"
   ]
  }
 ],
 "metadata": {
  "language_info": {
   "name": "python"
  }
 },
 "nbformat": 4,
 "nbformat_minor": 2
}
